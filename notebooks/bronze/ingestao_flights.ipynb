{
 "cells": [
  {
   "cell_type": "code",
   "execution_count": 0,
   "metadata": {
    "application/vnd.databricks.v1+cell": {
     "cellMetadata": {
      "byteLimit": 2048000,
      "implicitDf": true,
      "rowLimit": 10000
     },
     "inputWidgets": {},
     "nuid": "c4cb64ff-114d-483b-b2c7-00aebbdb3d28",
     "showTitle": false,
     "tableResultSettingsMap": {},
     "title": ""
    }
   },
   "outputs": [],
   "source": [
    "%sql\n",
    "SELECT current_catalog(), current_schema();"
   ]
  },
  {
   "cell_type": "code",
   "execution_count": 0,
   "metadata": {
    "application/vnd.databricks.v1+cell": {
     "cellMetadata": {
      "byteLimit": 2048000,
      "implicitDf": true,
      "rowLimit": 10000
     },
     "inputWidgets": {},
     "nuid": "aa16fc56-160b-4b6f-9a29-e0e43ecd4829",
     "showTitle": false,
     "tableResultSettingsMap": {},
     "title": ""
    }
   },
   "outputs": [],
   "source": [
    "%sql\n",
    "CREATE SCHEMA IF NOT EXISTS workspace.bronze;\n",
    "CREATE SCHEMA IF NOT EXISTS workspace.silver;\n",
    "CREATE SCHEMA IF NOT EXISTS workspace.gold;"
   ]
  },
  {
   "cell_type": "code",
   "execution_count": 0,
   "metadata": {
    "application/vnd.databricks.v1+cell": {
     "cellMetadata": {
      "byteLimit": 2048000,
      "rowLimit": 10000
     },
     "inputWidgets": {},
     "nuid": "a7cead91-021d-4061-a9f7-ffe9a7e916a1",
     "showTitle": false,
     "tableResultSettingsMap": {},
     "title": ""
    }
   },
   "outputs": [],
   "source": [
    "from pyspark.sql import SparkSession\n",
    "from pyspark.sql.functions import col\n",
    "\n",
    "# Criar sessão Spark\n",
    "spark = SparkSession.builder.getOrCreate()\n",
    "\n",
    "# 1️⃣ Leitura de dados públicos\n",
    "df = spark.read.csv(\"/databricks-datasets/learning-spark-v2/flights/departuredelays.csv\", header=True, inferSchema=True)\n",
    "\n",
    "# 2️⃣ Exibir amostra\n",
    "display(df.limit(5))\n",
    "\n",
    "# 3️⃣ Filtrar voos com atraso > 100 min\n",
    "df_filtrado = df.filter(col(\"delay\") > 100)\n",
    "\n",
    "# 4️⃣ Salvar dados filtrados (Bronze)\n",
    "df_filtrado.write.format(\"delta\").mode(\"overwrite\").saveAsTable(\"workspace.bronze.flights_delay_maior_100\")\n",
    "\n",
    "print(\"Pipeline Bronze executada com sucesso!\")\n"
   ]
  },
  {
   "cell_type": "code",
   "execution_count": 0,
   "metadata": {
    "application/vnd.databricks.v1+cell": {
     "cellMetadata": {
      "byteLimit": 2048000,
      "implicitDf": true,
      "rowLimit": 10000
     },
     "inputWidgets": {},
     "nuid": "aeba0a68-f091-450d-b0ff-5f846439a279",
     "showTitle": false,
     "tableResultSettingsMap": {},
     "title": ""
    }
   },
   "outputs": [],
   "source": [
    "%sql\n",
    "SELECT * FROM workspace.bronze.flights_delay_maior_100 LIMIT 5;\n"
   ]
  }
 ],
 "metadata": {
  "application/vnd.databricks.v1+notebook": {
   "computePreferences": null,
   "dashboards": [],
   "environmentMetadata": {
    "base_environment": "",
    "environment_version": "4"
   },
   "inputWidgetPreferences": null,
   "language": "python",
   "notebookMetadata": {
    "mostRecentlyExecutedCommandWithImplicitDF": {
     "commandId": 5237138561504076,
     "dataframes": [
      "_sqldf"
     ]
    },
    "pythonIndentUnit": 4
   },
   "notebookName": "ingestao_flights",
   "widgets": {}
  },
  "language_info": {
   "name": "python"
  }
 },
 "nbformat": 4,
 "nbformat_minor": 0
}
